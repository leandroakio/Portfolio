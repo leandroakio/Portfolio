{
 "cells": [
  {
   "cell_type": "markdown",
   "id": "a1c0bb2a",
   "metadata": {},
   "source": [
    "## PREVISÃO DE VENDAS - Adventure Works"
   ]
  },
  {
   "cell_type": "markdown",
   "id": "27a4ccc8",
   "metadata": {},
   "source": [
    "<div class=\"alert alert-block alert-warning\">\n",
    "<b>Sobre o conteúdo:</b> Este é um projeto pessoal do estudo previsões de séries temporais. <br>\n",
    "<b>Objetivo:</b> Prever as vendas da Adventure Works para balizar o planejamento a fim de ter inventário saudável (empresa fictícia da Microsoft)\n",
    "</div>"
   ]
  },
  {
   "cell_type": "markdown",
   "id": "b8d25959",
   "metadata": {},
   "source": [
    "### Etapas do projeto\n",
    "\n",
    ">1) Importar bibliotecas necessárias para utilização <br>\n",
    ">2) Importar dados para a análise: neste caso, estão no SQL Server instalado em meu computador local <br>\n",
    ">3) Buscar a quantidade de vendas e respectivas datas.\n",
    ">4) Identificar parâmetro de correlação de regressão.\n",
    ">5) Treinar o modelo de regressão.\n",
    ">6) Calcular a previsão e medir a acurácia do modelo.\n"
   ]
  },
  {
   "cell_type": "code",
   "execution_count": 5,
   "id": "055a615a",
   "metadata": {},
   "outputs": [],
   "source": [
    "#Importando as bibliotecas necessárias\n",
    "import pyodbc\n",
    "import pandas as pd\n",
    "import numpy as np\n",
    "import matplotlib.pyplot as plt\n",
    "%matplotlib inline\n",
    "from sklearn.metrics import mean_squared_error\n",
    "import warnings\n",
    "warnings.filterwarnings('ignore')\n",
    "# conectando ao servidor para buscar histórico de vendas\n",
    "connectiondata = (\n",
    "    \"Driver={SQL Server};\"\n",
    "    \"Server=localhost\\SQLEXPRESS;\"\n",
    "    \"Database=AdventureWorks2019;\"\n",
    "    \"Trusted_Connection=yes;\")\n",
    "## adicionando login e senha opcionais ; UID=nomeusuario;PWD=senhadousuario\n",
    "connection = pyodbc.connect(connectiondata)\n",
    "cursor = connection.cursor()"
   ]
  },
  {
   "cell_type": "code",
   "execution_count": 6,
   "id": "bae79042",
   "metadata": {},
   "outputs": [
    {
     "data": {
      "text/plain": [
       "<pyodbc.Cursor at 0x18d2900ee30>"
      ]
     },
     "execution_count": 6,
     "metadata": {},
     "output_type": "execute_result"
    }
   ],
   "source": [
    "query = \"SELECT convert(DATE,sh.OrderDate) as DataVenda, PP.Name as 'Produto', FORMAT(sd.OrderQty,'N0') as 'Qtd', FORMAT(sd.LineTotal,'N2') as 'ValorNF' FROM sales.SalesOrderDetail SD INNER JOIN Sales.SalesOrderHeader SH ON SH.SalesOrderID = SD.SalesOrderID INNER JOIN Production.Product PP ON PP.ProductID = SD.ProductID\"\n",
    "cursor.execute(query)"
   ]
  },
  {
   "cell_type": "code",
   "execution_count": 7,
   "id": "05b98078",
   "metadata": {},
   "outputs": [
    {
     "name": "stdout",
     "output_type": "stream",
     "text": [
      "DataVenda    datetime64[ns]\n",
      "Produto              object\n",
      "Qtd                  object\n",
      "ValorNF              object\n",
      "dtype: object\n"
     ]
    }
   ],
   "source": [
    "connection = pyodbc.connect(connectiondata)\n",
    "cursor = connection.cursor()\n",
    "df_raw = pd.read_sql(query,connection,parse_dates={'DataVenda': {'format': '%Y-%m-%d'}})\n",
    "result = df_raw.dtypes\n",
    "print(result)"
   ]
  },
  {
   "cell_type": "code",
   "execution_count": 27,
   "id": "1fd52d55",
   "metadata": {},
   "outputs": [
    {
     "name": "stdout",
     "output_type": "stream",
     "text": [
      "        DataVenda                  Produto Qtd   ValorNF\n",
      "0      2011-05-31   Mountain-100 Black, 42   1  2.024,99\n",
      "1      2011-05-31   Mountain-100 Black, 44   3  6.074,98\n",
      "2      2011-05-31   Mountain-100 Black, 48   1  2.024,99\n",
      "3      2011-05-31  Mountain-100 Silver, 38   1  2.039,99\n",
      "4      2011-05-31  Mountain-100 Silver, 42   1  2.039,99\n",
      "...           ...                      ...  ..       ...\n",
      "121312 2014-06-30    Fender Set - Mountain   1     21,98\n",
      "121313 2014-06-30             AWC Logo Cap   1      8,99\n",
      "121314 2014-06-30    Fender Set - Mountain   1     21,98\n",
      "121315 2014-06-30   All-Purpose Bike Stand   1    159,00\n",
      "121316 2014-06-30             AWC Logo Cap   1      8,99\n",
      "\n",
      "[121317 rows x 4 columns]\n"
     ]
    }
   ],
   "source": [
    "print(df_raw)\n",
    "df = pd.DataFrame(df_raw)"
   ]
  },
  {
   "cell_type": "code",
   "execution_count": 28,
   "id": "275961f2",
   "metadata": {},
   "outputs": [
    {
     "name": "stdout",
     "output_type": "stream",
     "text": [
      "        DataVenda                  Produto Qtd   ValorNF\n",
      "0      2011-05-31   Mountain-100 Black, 42   1  2.024,99\n",
      "1      2011-05-31   Mountain-100 Black, 44   3  6.074,98\n",
      "2      2011-05-31   Mountain-100 Black, 48   1  2.024,99\n",
      "3      2011-05-31  Mountain-100 Silver, 38   1  2.039,99\n",
      "4      2011-05-31  Mountain-100 Silver, 42   1  2.039,99\n",
      "...           ...                      ...  ..       ...\n",
      "121312 2014-06-30    Fender Set - Mountain   1     21,98\n",
      "121313 2014-06-30             AWC Logo Cap   1      8,99\n",
      "121314 2014-06-30    Fender Set - Mountain   1     21,98\n",
      "121315 2014-06-30   All-Purpose Bike Stand   1    159,00\n",
      "121316 2014-06-30             AWC Logo Cap   1      8,99\n",
      "\n",
      "[121317 rows x 4 columns]\n",
      "<class 'pandas.core.frame.DataFrame'>\n"
     ]
    }
   ],
   "source": [
    "print(df)\n",
    "print (type(df))"
   ]
  },
  {
   "cell_type": "code",
   "execution_count": 29,
   "id": "20396725",
   "metadata": {},
   "outputs": [],
   "source": [
    "series_value = df.Qtd"
   ]
  },
  {
   "cell_type": "code",
   "execution_count": 30,
   "id": "4c1a4bc0",
   "metadata": {},
   "outputs": [
    {
     "data": {
      "text/plain": [
       "pandas.core.series.Series"
      ]
     },
     "execution_count": 30,
     "metadata": {},
     "output_type": "execute_result"
    }
   ],
   "source": [
    "type(series_value)"
   ]
  },
  {
   "cell_type": "code",
   "execution_count": 31,
   "id": "dcf9e7a7",
   "metadata": {},
   "outputs": [],
   "source": [
    "df.set_index('DataVenda', inplace=True)"
   ]
  },
  {
   "cell_type": "code",
   "execution_count": 32,
   "id": "fb2611be",
   "metadata": {},
   "outputs": [
    {
     "data": {
      "text/plain": [
       "DataVenda\n",
       "2011-05-31    1\n",
       "2011-05-31    3\n",
       "2011-05-31    1\n",
       "2011-05-31    1\n",
       "2011-05-31    1\n",
       "Name: Qtd, dtype: int32"
      ]
     },
     "execution_count": 32,
     "metadata": {},
     "output_type": "execute_result"
    }
   ],
   "source": [
    "series_value = df.Qtd\n",
    "df = df['Qtd'].astype(str).astype(int)\n",
    "df.head()"
   ]
  },
  {
   "cell_type": "code",
   "execution_count": 33,
   "id": "d7dd8650",
   "metadata": {},
   "outputs": [
    {
     "data": {
      "text/plain": [
       "count    121317.000000\n",
       "mean          2.266080\n",
       "std           2.491323\n",
       "min           1.000000\n",
       "25%           1.000000\n",
       "50%           1.000000\n",
       "75%           3.000000\n",
       "max          44.000000\n",
       "Name: Qtd, dtype: float64"
      ]
     },
     "execution_count": 33,
     "metadata": {},
     "output_type": "execute_result"
    }
   ],
   "source": [
    "df.describe()"
   ]
  },
  {
   "cell_type": "code",
   "execution_count": 34,
   "id": "b092f02d",
   "metadata": {},
   "outputs": [
    {
     "data": {
      "text/plain": [
       "<AxesSubplot:xlabel='DataVenda'>"
      ]
     },
     "execution_count": 34,
     "metadata": {},
     "output_type": "execute_result"
    },
    {
     "data": {
      "image/png": "[encoded data removed]",
      "text/plain": [
       "<Figure size 1296x360 with 1 Axes>"
      ]
     },
     "metadata": {
      "needs_background": "light"
     },
     "output_type": "display_data"
    }
   ],
   "source": [
    "df.plot(figsize=(18,5))"
   ]
  },
  {
   "cell_type": "code",
   "execution_count": 66,
   "id": "0f337d5b",
   "metadata": {},
   "outputs": [],
   "source": [
    "#adicionando em médias móveis de 10 dias para reduzir granularidade\n",
    "df_mean = df.rolling(window = 10).mean()"
   ]
  },
  {
   "cell_type": "code",
   "execution_count": 67,
   "id": "29d70d67",
   "metadata": {},
   "outputs": [
    {
     "data": {
      "text/plain": [
       "<AxesSubplot:xlabel='DataVenda'>"
      ]
     },
     "execution_count": 67,
     "metadata": {},
     "output_type": "execute_result"
    },
    {
     "data": {
      "image/png": "[encoded data removed]",
      "text/plain": [
       "<Figure size 1296x360 with 1 Axes>"
      ]
     },
     "metadata": {
      "needs_background": "light"
     },
     "output_type": "display_data"
    }
   ],
   "source": [
    "df_mean.plot(figsize=(18,5))"
   ]
  },
  {
   "cell_type": "code",
   "execution_count": 68,
   "id": "7bb97bc7",
   "metadata": {},
   "outputs": [],
   "source": [
    "#criando a linha base de referencia\n",
    "value=pd.DataFrame(series_value)\n",
    "venda_df = pd.concat([value,value.shift(1)], axis=1)"
   ]
  },
  {
   "cell_type": "code",
   "execution_count": 69,
   "id": "ef5218da",
   "metadata": {},
   "outputs": [
    {
     "data": {
      "text/html": [
       "<div>\n",
       "<style scoped>\n",
       "    .dataframe tbody tr th:only-of-type {\n",
       "        vertical-align: middle;\n",
       "    }\n",
       "\n",
       "    .dataframe tbody tr th {\n",
       "        vertical-align: top;\n",
       "    }\n",
       "\n",
       "    .dataframe thead th {\n",
       "        text-align: right;\n",
       "    }\n",
       "</style>\n",
       "<table border=\"1\" class=\"dataframe\">\n",
       "  <thead>\n",
       "    <tr style=\"text-align: right;\">\n",
       "      <th></th>\n",
       "      <th>Qtd</th>\n",
       "      <th>Qtd</th>\n",
       "    </tr>\n",
       "    <tr>\n",
       "      <th>DataVenda</th>\n",
       "      <th></th>\n",
       "      <th></th>\n",
       "    </tr>\n",
       "  </thead>\n",
       "  <tbody>\n",
       "    <tr>\n",
       "      <th>2011-05-31</th>\n",
       "      <td>1</td>\n",
       "      <td>NaN</td>\n",
       "    </tr>\n",
       "    <tr>\n",
       "      <th>2011-05-31</th>\n",
       "      <td>3</td>\n",
       "      <td>1</td>\n",
       "    </tr>\n",
       "    <tr>\n",
       "      <th>2011-05-31</th>\n",
       "      <td>1</td>\n",
       "      <td>3</td>\n",
       "    </tr>\n",
       "    <tr>\n",
       "      <th>2011-05-31</th>\n",
       "      <td>1</td>\n",
       "      <td>1</td>\n",
       "    </tr>\n",
       "    <tr>\n",
       "      <th>2011-05-31</th>\n",
       "      <td>1</td>\n",
       "      <td>1</td>\n",
       "    </tr>\n",
       "  </tbody>\n",
       "</table>\n",
       "</div>"
      ],
      "text/plain": [
       "           Qtd  Qtd\n",
       "DataVenda          \n",
       "2011-05-31   1  NaN\n",
       "2011-05-31   3    1\n",
       "2011-05-31   1    3\n",
       "2011-05-31   1    1\n",
       "2011-05-31   1    1"
      ]
     },
     "execution_count": 69,
     "metadata": {},
     "output_type": "execute_result"
    }
   ],
   "source": [
    "venda_df.head()"
   ]
  },
  {
   "cell_type": "code",
   "execution_count": 70,
   "id": "6d28e747",
   "metadata": {},
   "outputs": [
    {
     "data": {
      "text/html": [
       "<div>\n",
       "<style scoped>\n",
       "    .dataframe tbody tr th:only-of-type {\n",
       "        vertical-align: middle;\n",
       "    }\n",
       "\n",
       "    .dataframe tbody tr th {\n",
       "        vertical-align: top;\n",
       "    }\n",
       "\n",
       "    .dataframe thead th {\n",
       "        text-align: right;\n",
       "    }\n",
       "</style>\n",
       "<table border=\"1\" class=\"dataframe\">\n",
       "  <thead>\n",
       "    <tr style=\"text-align: right;\">\n",
       "      <th></th>\n",
       "      <th>Venda_real</th>\n",
       "      <th>Venda_previsao</th>\n",
       "    </tr>\n",
       "    <tr>\n",
       "      <th>DataVenda</th>\n",
       "      <th></th>\n",
       "      <th></th>\n",
       "    </tr>\n",
       "  </thead>\n",
       "  <tbody>\n",
       "    <tr>\n",
       "      <th>2011-05-31</th>\n",
       "      <td>1</td>\n",
       "      <td>1</td>\n",
       "    </tr>\n",
       "    <tr>\n",
       "      <th>2011-05-31</th>\n",
       "      <td>1</td>\n",
       "      <td>1</td>\n",
       "    </tr>\n",
       "    <tr>\n",
       "      <th>2011-05-31</th>\n",
       "      <td>2</td>\n",
       "      <td>1</td>\n",
       "    </tr>\n",
       "    <tr>\n",
       "      <th>2011-05-31</th>\n",
       "      <td>1</td>\n",
       "      <td>2</td>\n",
       "    </tr>\n",
       "    <tr>\n",
       "      <th>2011-05-31</th>\n",
       "      <td>3</td>\n",
       "      <td>1</td>\n",
       "    </tr>\n",
       "  </tbody>\n",
       "</table>\n",
       "</div>"
      ],
      "text/plain": [
       "           Venda_real Venda_previsao\n",
       "DataVenda                           \n",
       "2011-05-31          1              1\n",
       "2011-05-31          1              1\n",
       "2011-05-31          2              1\n",
       "2011-05-31          1              2\n",
       "2011-05-31          3              1"
      ]
     },
     "execution_count": 70,
     "metadata": {},
     "output_type": "execute_result"
    }
   ],
   "source": [
    "#renomeando as colunas\n",
    "venda_df.columns=['Venda_real','Venda_previsao']\n",
    "#removendo a 1a linha do df, pois contém NaN\n",
    "venda_df = fat_df[1:]\n",
    "venda_df.head()"
   ]
  },
  {
   "cell_type": "code",
   "execution_count": 71,
   "id": "8db11de3",
   "metadata": {},
   "outputs": [],
   "source": [
    "venda_df_error = mean_squared_error(venda_df.Venda_real,venda_df.Venda_previsao)"
   ]
  },
  {
   "cell_type": "code",
   "execution_count": 72,
   "id": "73dd532b",
   "metadata": {},
   "outputs": [
    {
     "data": {
      "text/plain": [
       "2.785800987589883"
      ]
     },
     "execution_count": 72,
     "metadata": {},
     "output_type": "execute_result"
    }
   ],
   "source": [
    "np.sqrt(venda_df_error)"
   ]
  },
  {
   "cell_type": "code",
   "execution_count": 73,
   "id": "1809090d",
   "metadata": {},
   "outputs": [],
   "source": [
    "from statsmodels.graphics.tsaplots import plot_acf, plot_pacf"
   ]
  },
  {
   "cell_type": "code",
   "execution_count": 74,
   "id": "0cb29d62",
   "metadata": {},
   "outputs": [
    {
     "data": {
      "image/png": "[encoded data removed]",
      "text/plain": [
       "<Figure size 432x288 with 1 Axes>"
      ]
     },
     "execution_count": 74,
     "metadata": {},
     "output_type": "execute_result"
    },
    {
     "data": {
      "image/png": "[encoded data removed]",
      "text/plain": [
       "<Figure size 432x288 with 1 Axes>"
      ]
     },
     "metadata": {
      "needs_background": "light"
     },
     "output_type": "display_data"
    }
   ],
   "source": [
    "plot_acf (df)"
   ]
  },
  {
   "cell_type": "code",
   "execution_count": 75,
   "id": "aaadbd63",
   "metadata": {},
   "outputs": [
    {
     "data": {
      "image/png": "[encoded data removed]",
      "text/plain": [
       "<Figure size 432x288 with 1 Axes>"
      ]
     },
     "execution_count": 75,
     "metadata": {},
     "output_type": "execute_result"
    },
    {
     "data": {
      "image/png": "[encoded data removed]",
      "text/plain": [
       "<Figure size 432x288 with 1 Axes>"
      ]
     },
     "metadata": {
      "needs_background": "light"
     },
     "output_type": "display_data"
    }
   ],
   "source": [
    "plot_pacf(df) #to identify the value of P "
   ]
  },
  {
   "cell_type": "code",
   "execution_count": 76,
   "id": "3aa30a73",
   "metadata": {},
   "outputs": [
    {
     "data": {
      "text/plain": [
       "121317"
      ]
     },
     "execution_count": 76,
     "metadata": {},
     "output_type": "execute_result"
    }
   ],
   "source": [
    "df.size"
   ]
  },
  {
   "cell_type": "code",
   "execution_count": 77,
   "id": "8c5c0573",
   "metadata": {},
   "outputs": [
    {
     "data": {
      "text/plain": [
       "97000"
      ]
     },
     "execution_count": 77,
     "metadata": {},
     "output_type": "execute_result"
    }
   ],
   "source": [
    "df_train = df[0:97000]\n",
    "df_test = df[97000:121317]\n",
    "df_train.size"
   ]
  },
  {
   "cell_type": "code",
   "execution_count": 78,
   "id": "abc8cb44",
   "metadata": {},
   "outputs": [
    {
     "data": {
      "text/plain": [
       "24317"
      ]
     },
     "execution_count": 78,
     "metadata": {},
     "output_type": "execute_result"
    }
   ],
   "source": [
    "df_test.size"
   ]
  },
  {
   "cell_type": "code",
   "execution_count": 79,
   "id": "972cf0f2",
   "metadata": {},
   "outputs": [],
   "source": [
    "import statsmodels.api as sm"
   ]
  },
  {
   "cell_type": "code",
   "execution_count": 80,
   "id": "d6cb9729",
   "metadata": {},
   "outputs": [
    {
     "name": "stderr",
     "output_type": "stream",
     "text": [
      "C:\\Users\\leand\\anaconda3\\lib\\site-packages\\statsmodels\\tsa\\base\\tsa_model.py:471: ValueWarning: A date index has been provided, but it has no associated frequency information and so will be ignored when e.g. forecasting.\n",
      "  self._init_dates(dates, freq)\n",
      "C:\\Users\\leand\\anaconda3\\lib\\site-packages\\statsmodels\\tsa\\base\\tsa_model.py:471: ValueWarning: A date index has been provided, but it has no associated frequency information and so will be ignored when e.g. forecasting.\n",
      "  self._init_dates(dates, freq)\n",
      "C:\\Users\\leand\\anaconda3\\lib\\site-packages\\statsmodels\\tsa\\base\\tsa_model.py:471: ValueWarning: A date index has been provided, but it has no associated frequency information and so will be ignored when e.g. forecasting.\n",
      "  self._init_dates(dates, freq)\n"
     ]
    }
   ],
   "source": [
    "model = sm.tsa.arima.ARIMA(df_train, order=(2,1,2))\n",
    "fit = model.fit()"
   ]
  },
  {
   "cell_type": "code",
   "execution_count": 81,
   "id": "5b7f0502",
   "metadata": {},
   "outputs": [
    {
     "data": {
      "text/plain": [
       "428434.68160362984"
      ]
     },
     "execution_count": 81,
     "metadata": {},
     "output_type": "execute_result"
    }
   ],
   "source": [
    "fit.aic"
   ]
  },
  {
   "cell_type": "code",
   "execution_count": 85,
   "id": "db3c641e",
   "metadata": {},
   "outputs": [
    {
     "name": "stderr",
     "output_type": "stream",
     "text": [
      "C:\\Users\\leand\\anaconda3\\lib\\site-packages\\statsmodels\\tsa\\base\\tsa_model.py:834: ValueWarning: No supported index is available. Prediction results will be given with an integer index beginning at `start`.\n",
      "  return get_prediction_index(\n"
     ]
    }
   ],
   "source": [
    "forecast = fit.forecast(steps=10)"
   ]
  },
  {
   "cell_type": "code",
   "execution_count": 89,
   "id": "ad2264a1",
   "metadata": {},
   "outputs": [
    {
     "data": {
      "text/plain": [
       "DataVenda\n",
       "2014-03-01     6\n",
       "2014-03-01    10\n",
       "2014-03-01     3\n",
       "2014-03-01    13\n",
       "2014-03-01     8\n",
       "Name: Qtd, dtype: int32"
      ]
     },
     "execution_count": 89,
     "metadata": {},
     "output_type": "execute_result"
    }
   ],
   "source": [
    "df_test.head()"
   ]
  },
  {
   "cell_type": "code",
   "execution_count": null,
   "id": "aef53a55",
   "metadata": {},
   "outputs": [],
   "source": []
  }
 ],
 "metadata": {
  "kernelspec": {
   "display_name": "Python 3 (ipykernel)",
   "language": "python",
   "name": "python3"
  },
  "language_info": {
   "codemirror_mode": {
    "name": "ipython",
    "version": 3
   },
   "file_extension": ".py",
   "mimetype": "text/x-python",
   "name": "python",
   "nbconvert_exporter": "python",
   "pygments_lexer": "ipython3",
   "version": "3.9.12"
  }
 },
 "nbformat": 4,
 "nbformat_minor": 5
}
