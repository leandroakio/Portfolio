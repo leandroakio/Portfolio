{
 "cells": [
  {
   "cell_type": "markdown",
   "id": "a1c0bb2a",
   "metadata": {},
   "source": [
    "# Adventure Works Cycles - Sales opportunities"
   ]
  },
  {
   "cell_type": "markdown",
   "id": "27a4ccc8",
   "metadata": {},
   "source": [
    "<div class=\"alert alert-block alert-warning\">\n",
    "<b>About this project:</b> The goal of this project is to explore the Adventure Works database to identify opportunities for business enhancement. <br> Firstly I'll use pandas to explore the dataset.<br> \n",
    "Adventure Works Cycles is a ficticious multinational manufacturing company, created by Microsoft to provide data for study purpose.<br>\n",
    "</div>"
   ]
  },
  {
   "cell_type": "markdown",
   "id": "b8d25959",
   "metadata": {},
   "source": [
    "## Project steps\n",
    "Summary: Load the sales dataset, join with demographic data of the delivery region, calculate the sales opportunities.<br>\n",
    "Assumption: the total US sales result by category (%) will be used as the baseline to define the percentage of ideal sales mix.\n",
    ">1) Import libraries required <br>\n",
    ">2) Import dataset (from local Microsoft SQL Server).<br>\n",
    ">3) Model the datasets\n",
    ">4) Data pre-processing\n",
    ">5) "
   ]
  },
  {
   "cell_type": "code",
   "execution_count": 1,
   "id": "055a615a",
   "metadata": {},
   "outputs": [],
   "source": [
    "#Importing required libraries\n",
    "import pyodbc\n",
    "import pandas as pd\n",
    "import numpy as np\n",
    "import matplotlib.pyplot as plt\n",
    "%matplotlib inline\n",
    "from sklearn.metrics import mean_squared_error\n",
    "import warnings\n",
    "warnings.filterwarnings('ignore')\n",
    "# creating connection with my local server\n",
    "connectiondata = (\n",
    "    \"Driver={SQL Server};\"\n",
    "    \"Server=localhost\\SQLEXPRESS;\"\n",
    "    \"Database=AdventureWorks2019;\"\n",
    "    \"Trusted_Connection=yes;\")\n",
    "## note to add when required; UID=login;PWD=senhadousuario)\n",
    "connection = pyodbc.connect(connectiondata)\n",
    "cursor = connection.cursor()"
   ]
  },
  {
   "cell_type": "code",
   "execution_count": 2,
   "id": "bae79042",
   "metadata": {},
   "outputs": [
    {
     "data": {
      "text/plain": [
       "<pyodbc.Cursor at 0x232dacbcc30>"
      ]
     },
     "execution_count": 2,
     "metadata": {},
     "output_type": "execute_result"
    }
   ],
   "source": [
    "query_sales = \"SELECT convert(DATE,sh.OrderDate) as SalesDate, PP.Name as 'Product', FORMAT(sd.OrderQty,'N0') as 'Qty', FORMAT(sd.LineTotal,'N2') as 'InvoiceValue' FROM sales.SalesOrderDetail SD INNER JOIN Sales.SalesOrderHeader SH ON SH.SalesOrderID = SD.SalesOrderID INNER JOIN Production.Product PP ON PP.ProductID = SD.ProductID\"\n",
    "cursor.execute(query_sales)"
   ]
  },
  {
   "cell_type": "code",
   "execution_count": 3,
   "id": "05b98078",
   "metadata": {},
   "outputs": [
    {
     "name": "stdout",
     "output_type": "stream",
     "text": [
      "SalesDate       datetime64[ns]\n",
      "Product                 object\n",
      "Qty                     object\n",
      "InvoiceValue            object\n",
      "dtype: object\n"
     ]
    }
   ],
   "source": [
    "connection = pyodbc.connect(connectiondata)\n",
    "cursor = connection.cursor()\n",
    "dfsales = pd.read_sql(query_sales,connection,parse_dates={'SalesDate': {'format': '%Y-%m-%d'}})\n",
    "result = dfsales.dtypes\n",
    "print(result)"
   ]
  },
  {
   "cell_type": "code",
   "execution_count": 4,
   "id": "1fd52d55",
   "metadata": {},
   "outputs": [
    {
     "name": "stdout",
     "output_type": "stream",
     "text": [
      "        SalesDate                  Product Qty InvoiceValue\n",
      "0      2011-05-31   Mountain-100 Black, 42   1     2.024,99\n",
      "1      2011-05-31   Mountain-100 Black, 44   3     6.074,98\n",
      "2      2011-05-31   Mountain-100 Black, 48   1     2.024,99\n",
      "3      2011-05-31  Mountain-100 Silver, 38   1     2.039,99\n",
      "4      2011-05-31  Mountain-100 Silver, 42   1     2.039,99\n",
      "...           ...                      ...  ..          ...\n",
      "121312 2014-06-30    Fender Set - Mountain   1        21,98\n",
      "121313 2014-06-30             AWC Logo Cap   1         8,99\n",
      "121314 2014-06-30    Fender Set - Mountain   1        21,98\n",
      "121315 2014-06-30   All-Purpose Bike Stand   1       159,00\n",
      "121316 2014-06-30             AWC Logo Cap   1         8,99\n",
      "\n",
      "[121317 rows x 4 columns]\n"
     ]
    }
   ],
   "source": [
    "print(dfsales)\n",
    "dfsales = pd.DataFrame(dfsales)"
   ]
  },
  {
   "cell_type": "code",
   "execution_count": 5,
   "id": "275961f2",
   "metadata": {},
   "outputs": [
    {
     "name": "stdout",
     "output_type": "stream",
     "text": [
      "        SalesDate                  Product Qty InvoiceValue\n",
      "0      2011-05-31   Mountain-100 Black, 42   1     2.024,99\n",
      "1      2011-05-31   Mountain-100 Black, 44   3     6.074,98\n",
      "2      2011-05-31   Mountain-100 Black, 48   1     2.024,99\n",
      "3      2011-05-31  Mountain-100 Silver, 38   1     2.039,99\n",
      "4      2011-05-31  Mountain-100 Silver, 42   1     2.039,99\n",
      "...           ...                      ...  ..          ...\n",
      "121312 2014-06-30    Fender Set - Mountain   1        21,98\n",
      "121313 2014-06-30             AWC Logo Cap   1         8,99\n",
      "121314 2014-06-30    Fender Set - Mountain   1        21,98\n",
      "121315 2014-06-30   All-Purpose Bike Stand   1       159,00\n",
      "121316 2014-06-30             AWC Logo Cap   1         8,99\n",
      "\n",
      "[121317 rows x 4 columns]\n",
      "<class 'pandas.core.frame.DataFrame'>\n"
     ]
    }
   ],
   "source": [
    "print(dfsales)\n",
    "print (type(dfsales))"
   ]
  },
  {
   "cell_type": "code",
   "execution_count": null,
   "id": "fee30c41",
   "metadata": {},
   "outputs": [],
   "source": [
    "query_customer = \"select SC.PersonID, PP.FirstName, PP.LastName \n",
    "FROM Person.Person PP, sales.Customer SC\n",
    "WHERE SC.rowguid = PP.rowguid\""
   ]
  }
 ],
 "metadata": {
  "kernelspec": {
   "display_name": "Python 3 (ipykernel)",
   "language": "python",
   "name": "python3"
  },
  "language_info": {
   "codemirror_mode": {
    "name": "ipython",
    "version": 3
   },
   "file_extension": ".py",
   "mimetype": "text/x-python",
   "name": "python",
   "nbconvert_exporter": "python",
   "pygments_lexer": "ipython3",
   "version": "3.9.12"
  }
 },
 "nbformat": 4,
 "nbformat_minor": 5
}
