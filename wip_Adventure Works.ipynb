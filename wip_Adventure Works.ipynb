{
 "cells": [
  {
   "cell_type": "markdown",
   "id": "a1c0bb2a",
   "metadata": {},
   "source": [
    "# Adventure Works Cycles - Sales opportunities"
   ]
  },
  {
   "cell_type": "markdown",
   "id": "27a4ccc8",
   "metadata": {},
   "source": [
    "<div class=\"alert alert-block alert-warning\">\n",
    "<b>About this project:</b> The goal of this project is to explore the Adventure Works database to identify opportunities for business enhancement through EDA (Exploratory Data Analysis).<br>\n",
    "Adventure Works Cycles is a ficticious multinational manufacturing company, created by Microsoft for study purpose.<br>\n",
    "\n",
    "<b>Findings:</b> to be registered \n",
    "</div>"
   ]
  },
  {
   "cell_type": "markdown",
   "id": "3bdff263",
   "metadata": {},
   "source": [
    "## Project assumptions:\n",
    "The ammount of sales opportunities will be represented by the sales quantity of each region and segment, when the result in (%) is below of the segment result (%) in total US sales.<br>\n",
    "For the sake of study all the regions could perform the sales at the same segment mix of the total US sales.<br>\n",
    "\n",
    "Granularity of data:<br>\n",
    "Geographic: grouped by region | Date: group by month or year <br>"
   ]
  },
  {
   "cell_type": "markdown",
   "id": "b8d25959",
   "metadata": {},
   "source": [
    "## Procedures\n",
    ">1) Import libraries required <br>\n",
    ">2) Import dataset (from local Microsoft SQL Server database).<br>\n",
    ">3) Create the dataframes:<br>\n",
    "    sales: result with region name, product segment, quantity, invoice value <br>\n",
    "    population: US population quantity, grouped by region <br>\n",
    ">4) Plot charts to explore data <br>\n",
    ">5) Calculate the sales opportunities <br>\n",
    ">6) Conclusion"
   ]
  },
  {
   "cell_type": "markdown",
   "id": "e603134d",
   "metadata": {},
   "source": [
    "### 1) Importing the libraries"
   ]
  },
  {
   "cell_type": "code",
   "execution_count": 1,
   "id": "29989034",
   "metadata": {},
   "outputs": [],
   "source": [
    "import pyodbc\n",
    "import pandas as pd\n",
    "import numpy as np\n",
    "import matplotlib.pyplot as plt\n",
    "%matplotlib inline\n",
    "import warnings\n",
    "warnings.filterwarnings('ignore')"
   ]
  },
  {
   "cell_type": "markdown",
   "id": "9628bf83",
   "metadata": {},
   "source": [
    "### 2) Connecting with SQL Server to get the data"
   ]
  },
  {
   "cell_type": "code",
   "execution_count": 2,
   "id": "6833bbfd",
   "metadata": {},
   "outputs": [],
   "source": [
    "connectiondata = (\n",
    "    \"Driver={SQL Server};\"\n",
    "    \"Server=localhost\\SQLEXPRESS;\"\n",
    "    \"Database=AdventureWorks2019;\"\n",
    "    \"Trusted_Connection=yes;\")\n",
    "## note to add when required; UID=login;PWD=senhadousuario)\n",
    "connection = pyodbc.connect(connectiondata)\n",
    "cursor = connection.cursor()"
   ]
  },
  {
   "cell_type": "markdown",
   "id": "d83f115a",
   "metadata": {},
   "source": [
    "### 3) Creating the dataframes"
   ]
  },
  {
   "cell_type": "code",
   "execution_count": 3,
   "id": "bae79042",
   "metadata": {
    "scrolled": true
   },
   "outputs": [
    {
     "data": {
      "text/plain": [
       "OrderDate        object\n",
       "OrderID           int64\n",
       "Product          object\n",
       "Quantity          int64\n",
       "InvoiceValue    float64\n",
       "CustomerName     object\n",
       "City             object\n",
       "StateCode        object\n",
       "StateName        object\n",
       "dtype: object"
      ]
     },
     "execution_count": 3,
     "metadata": {},
     "output_type": "execute_result"
    }
   ],
   "source": [
    "# creating the sales dataframe \n",
    "query_sales = \"SELECT CONVERT(DATE,SOH.OrderDate) AS 'OrderDate', SOH.SalesOrderID AS 'OrderID', PRP.Name AS 'Product', SOD.OrderQty AS 'Quantity', CAST(SOD.LineTotal AS DECIMAL(20,2)) AS 'InvoiceValue', PER.FirstName +' '+ PER.LastName AS 'CustomerName', PEA.City AS 'City', PSP.StateProvinceCode AS 'StateCode', PSP.Name AS 'StateName' FROM Sales.SalesOrderHeader SOH INNER JOIN SALES.SalesOrderDetail SOD ON SOH.SalesOrderID = SOD.SalesOrderID INNER JOIN Production.Product PRP ON SOD.ProductID = PRP.ProductID INNER JOIN Person.Person PER ON SOH.CustomerID = PER.BusinessEntityID INNER JOIN Person.Address PEA ON SOH.ShipToAddressID = PEA.AddressID INNER JOIN Person.StateProvince PSP ON PEA.StateProvinceID = PSP.StateProvinceID\"\n",
    "cursor.execute(query_sales)\n",
    "connection = pyodbc.connect(connectiondata)\n",
    "cursor = connection.cursor()\n",
    "pyodbc.setDecimalSeparator(',')\n",
    "dfsales = pd.read_sql(query_sales,connection,parse_dates={'SalesDate': {'format': '%Y-%m-%d'}})\n",
    "dfsales = pd.DataFrame(dfsales)\n",
    "dfsales.dtypes"
   ]
  },
  {
   "cell_type": "code",
   "execution_count": 4,
   "id": "0c5e35f2",
   "metadata": {},
   "outputs": [
    {
     "data": {
      "text/plain": [
       "<bound method DataFrame.info of         OrderDate  OrderID                  Product  Quantity  InvoiceValue  \\\n",
       "0      2011-05-31    43700       Road-650 Black, 62         1       69910.0   \n",
       "1      2011-05-31    43701  Mountain-100 Silver, 44         1      339999.0   \n",
       "2      2011-06-01    43703         Road-150 Red, 62         1      357827.0   \n",
       "3      2011-06-01    43704   Mountain-100 Black, 48         1      337499.0   \n",
       "4      2011-06-01    43705  Mountain-100 Silver, 38         1      339999.0   \n",
       "...           ...      ...                      ...       ...           ...   \n",
       "37919  2014-06-30    75122    Fender Set - Mountain         1        2198.0   \n",
       "37920  2014-06-30    75122             AWC Logo Cap         1         899.0   \n",
       "37921  2014-06-30    75123    Fender Set - Mountain         1        2198.0   \n",
       "37922  2014-06-30    75123   All-Purpose Bike Stand         1       15900.0   \n",
       "37923  2014-06-30    75123             AWC Logo Cap         1         899.0   \n",
       "\n",
       "         CustomerName           City StateCode         StateName  \n",
       "0          Bryan Gray  Beverly Hills       CA         California  \n",
       "1         Jenna Young     North Ryde       NSW   New South Wales  \n",
       "2        Nichole Goel          Perth       SA    South Australia  \n",
       "3           Joe Madan  East Brisbane       QLD        Queensland  \n",
       "4            Joe Rana  East Brisbane       QLD        Queensland  \n",
       "...               ...            ...       ...               ...  \n",
       "37919      José Perez          Sooke       BC   British Columbia  \n",
       "37920      José Perez          Sooke       BC   British Columbia  \n",
       "37921  Joshua Johnson          Sooke       BC   British Columbia  \n",
       "37922  Joshua Johnson          Sooke       BC   British Columbia  \n",
       "37923  Joshua Johnson          Sooke       BC   British Columbia  \n",
       "\n",
       "[37924 rows x 9 columns]>"
      ]
     },
     "execution_count": 4,
     "metadata": {},
     "output_type": "execute_result"
    }
   ],
   "source": [
    "dfsales.info"
   ]
  },
  {
   "cell_type": "code",
   "execution_count": 5,
   "id": "90496f96",
   "metadata": {},
   "outputs": [
    {
     "data": {
      "text/html": [
       "<div>\n",
       "<style scoped>\n",
       "    .dataframe tbody tr th:only-of-type {\n",
       "        vertical-align: middle;\n",
       "    }\n",
       "\n",
       "    .dataframe tbody tr th {\n",
       "        vertical-align: top;\n",
       "    }\n",
       "\n",
       "    .dataframe thead th {\n",
       "        text-align: right;\n",
       "    }\n",
       "</style>\n",
       "<table border=\"1\" class=\"dataframe\">\n",
       "  <thead>\n",
       "    <tr style=\"text-align: right;\">\n",
       "      <th></th>\n",
       "      <th>OrderDate</th>\n",
       "      <th>OrderID</th>\n",
       "      <th>Product</th>\n",
       "      <th>Quantity</th>\n",
       "      <th>InvoiceValue</th>\n",
       "      <th>CustomerName</th>\n",
       "      <th>City</th>\n",
       "      <th>StateCode</th>\n",
       "      <th>StateName</th>\n",
       "    </tr>\n",
       "  </thead>\n",
       "  <tbody>\n",
       "    <tr>\n",
       "      <th>37921</th>\n",
       "      <td>2014-06-30</td>\n",
       "      <td>75123</td>\n",
       "      <td>Fender Set - Mountain</td>\n",
       "      <td>1</td>\n",
       "      <td>2198.0</td>\n",
       "      <td>Joshua Johnson</td>\n",
       "      <td>Sooke</td>\n",
       "      <td>BC</td>\n",
       "      <td>British Columbia</td>\n",
       "    </tr>\n",
       "    <tr>\n",
       "      <th>37922</th>\n",
       "      <td>2014-06-30</td>\n",
       "      <td>75123</td>\n",
       "      <td>All-Purpose Bike Stand</td>\n",
       "      <td>1</td>\n",
       "      <td>15900.0</td>\n",
       "      <td>Joshua Johnson</td>\n",
       "      <td>Sooke</td>\n",
       "      <td>BC</td>\n",
       "      <td>British Columbia</td>\n",
       "    </tr>\n",
       "    <tr>\n",
       "      <th>37923</th>\n",
       "      <td>2014-06-30</td>\n",
       "      <td>75123</td>\n",
       "      <td>AWC Logo Cap</td>\n",
       "      <td>1</td>\n",
       "      <td>899.0</td>\n",
       "      <td>Joshua Johnson</td>\n",
       "      <td>Sooke</td>\n",
       "      <td>BC</td>\n",
       "      <td>British Columbia</td>\n",
       "    </tr>\n",
       "  </tbody>\n",
       "</table>\n",
       "</div>"
      ],
      "text/plain": [
       "        OrderDate  OrderID                 Product  Quantity  InvoiceValue  \\\n",
       "37921  2014-06-30    75123   Fender Set - Mountain         1        2198.0   \n",
       "37922  2014-06-30    75123  All-Purpose Bike Stand         1       15900.0   \n",
       "37923  2014-06-30    75123            AWC Logo Cap         1         899.0   \n",
       "\n",
       "         CustomerName   City StateCode         StateName  \n",
       "37921  Joshua Johnson  Sooke       BC   British Columbia  \n",
       "37922  Joshua Johnson  Sooke       BC   British Columbia  \n",
       "37923  Joshua Johnson  Sooke       BC   British Columbia  "
      ]
     },
     "execution_count": 5,
     "metadata": {},
     "output_type": "execute_result"
    }
   ],
   "source": [
    "dfsales.tail(3)"
   ]
  },
  {
   "cell_type": "code",
   "execution_count": 6,
   "id": "cebd1bf0",
   "metadata": {},
   "outputs": [
    {
     "name": "stdout",
     "output_type": "stream",
     "text": [
      "      Region  Population\n",
      "0  Northeast    56006011\n",
      "1    Midwest    67745167\n",
      "2      South   119624037\n",
      "3       West    74925793\n"
     ]
    },
    {
     "data": {
      "text/plain": [
       "Region        object\n",
       "Population     int64\n",
       "dtype: object"
      ]
     },
     "execution_count": 6,
     "metadata": {},
     "output_type": "execute_result"
    }
   ],
   "source": [
    "# loading the US population dataframe \n",
    "censusall = pd.read_excel(r'Data/Census_US_2010_2019.xlsx', skiprows = 5,nrows=4,header=None,usecols=(0,7)) #,header=None\n",
    "censusall.columns = ['Region','Population']\n",
    "print(censusall.head(10))\n",
    "censusall.dtypes"
   ]
  },
  {
   "cell_type": "code",
   "execution_count": 7,
   "id": "afb815e6",
   "metadata": {},
   "outputs": [
    {
     "name": "stdout",
     "output_type": "stream",
     "text": [
      "    StateName Region\n",
      "0      Alaska   West\n",
      "1     Alabama  South\n",
      "2    Arkansas  South\n",
      "3     Arizona   West\n",
      "4  California   West\n",
      "(51, 2)\n"
     ]
    },
    {
     "data": {
      "text/plain": [
       "StateName    object\n",
       "Region       object\n",
       "dtype: object"
      ]
     },
     "execution_count": 7,
     "metadata": {},
     "output_type": "execute_result"
    }
   ],
   "source": [
    "# loading the list of states and regions\n",
    "dfregion = pd.read_csv(r'Data/States_region.csv',sep=\";\",header=0)\n",
    "dfregion=dfregion[['StateName','Region']]\n",
    "print(dfregion.head())\n",
    "print(dfregion.shape)\n",
    "dfregion.dtypes"
   ]
  },
  {
   "cell_type": "code",
   "execution_count": 8,
   "id": "08faf27d",
   "metadata": {},
   "outputs": [
    {
     "data": {
      "text/html": [
       "<div>\n",
       "<style scoped>\n",
       "    .dataframe tbody tr th:only-of-type {\n",
       "        vertical-align: middle;\n",
       "    }\n",
       "\n",
       "    .dataframe tbody tr th {\n",
       "        vertical-align: top;\n",
       "    }\n",
       "\n",
       "    .dataframe thead th {\n",
       "        text-align: right;\n",
       "    }\n",
       "</style>\n",
       "<table border=\"1\" class=\"dataframe\">\n",
       "  <thead>\n",
       "    <tr style=\"text-align: right;\">\n",
       "      <th></th>\n",
       "      <th>OrderDate</th>\n",
       "      <th>OrderID</th>\n",
       "      <th>Product</th>\n",
       "      <th>Quantity</th>\n",
       "      <th>InvoiceValue</th>\n",
       "      <th>CustomerName</th>\n",
       "      <th>City</th>\n",
       "      <th>StateCode</th>\n",
       "      <th>StateName</th>\n",
       "      <th>Region</th>\n",
       "    </tr>\n",
       "  </thead>\n",
       "  <tbody>\n",
       "    <tr>\n",
       "      <th>1</th>\n",
       "      <td>2013-10-14</td>\n",
       "      <td>57966.0</td>\n",
       "      <td>Patch Kit/8 Patches</td>\n",
       "      <td>1.0</td>\n",
       "      <td>229.0</td>\n",
       "      <td>Alyssa Taylor</td>\n",
       "      <td>Birmingham</td>\n",
       "      <td>AL</td>\n",
       "      <td>Alabama</td>\n",
       "      <td>South</td>\n",
       "    </tr>\n",
       "    <tr>\n",
       "      <th>2</th>\n",
       "      <td>2014-06-12</td>\n",
       "      <td>74548.0</td>\n",
       "      <td>HL Mountain Tire</td>\n",
       "      <td>1.0</td>\n",
       "      <td>3500.0</td>\n",
       "      <td>Alyssa Taylor</td>\n",
       "      <td>Birmingham</td>\n",
       "      <td>AL</td>\n",
       "      <td>Alabama</td>\n",
       "      <td>South</td>\n",
       "    </tr>\n",
       "    <tr>\n",
       "      <th>5</th>\n",
       "      <td>2011-05-31</td>\n",
       "      <td>43700.0</td>\n",
       "      <td>Road-650 Black, 62</td>\n",
       "      <td>1.0</td>\n",
       "      <td>69910.0</td>\n",
       "      <td>Bryan Gray</td>\n",
       "      <td>Beverly Hills</td>\n",
       "      <td>CA</td>\n",
       "      <td>California</td>\n",
       "      <td>West</td>\n",
       "    </tr>\n",
       "    <tr>\n",
       "      <th>6</th>\n",
       "      <td>2011-06-07</td>\n",
       "      <td>43726.0</td>\n",
       "      <td>Road-650 Black, 58</td>\n",
       "      <td>1.0</td>\n",
       "      <td>69910.0</td>\n",
       "      <td>Sebastian Ramirez</td>\n",
       "      <td>Bellflower</td>\n",
       "      <td>CA</td>\n",
       "      <td>California</td>\n",
       "      <td>West</td>\n",
       "    </tr>\n",
       "    <tr>\n",
       "      <th>7</th>\n",
       "      <td>2011-06-18</td>\n",
       "      <td>43771.0</td>\n",
       "      <td>Road-650 Red, 52</td>\n",
       "      <td>1.0</td>\n",
       "      <td>69910.0</td>\n",
       "      <td>Micheal Alvarez</td>\n",
       "      <td>Long Beach</td>\n",
       "      <td>CA</td>\n",
       "      <td>California</td>\n",
       "      <td>West</td>\n",
       "    </tr>\n",
       "  </tbody>\n",
       "</table>\n",
       "</div>"
      ],
      "text/plain": [
       "    OrderDate  OrderID              Product  Quantity  InvoiceValue  \\\n",
       "1  2013-10-14  57966.0  Patch Kit/8 Patches       1.0         229.0   \n",
       "2  2014-06-12  74548.0     HL Mountain Tire       1.0        3500.0   \n",
       "5  2011-05-31  43700.0   Road-650 Black, 62       1.0       69910.0   \n",
       "6  2011-06-07  43726.0   Road-650 Black, 58       1.0       69910.0   \n",
       "7  2011-06-18  43771.0     Road-650 Red, 52       1.0       69910.0   \n",
       "\n",
       "        CustomerName           City StateCode   StateName Region  \n",
       "1      Alyssa Taylor     Birmingham       AL      Alabama  South  \n",
       "2      Alyssa Taylor     Birmingham       AL      Alabama  South  \n",
       "5         Bryan Gray  Beverly Hills       CA   California   West  \n",
       "6  Sebastian Ramirez     Bellflower       CA   California   West  \n",
       "7    Micheal Alvarez     Long Beach       CA   California   West  "
      ]
     },
     "execution_count": 8,
     "metadata": {},
     "output_type": "execute_result"
    }
   ],
   "source": [
    "#insert the Region column into sales dataframe\n",
    "dfsales2 = dfsales.merge(dfregion,on='StateName',how='right')\n",
    "dfsales2 = dfsales2[dfsales2['Product'].notna()]\n",
    "dfsales2.head()"
   ]
  },
  {
   "cell_type": "code",
   "execution_count": 9,
   "id": "580d5833",
   "metadata": {},
   "outputs": [],
   "source": [
    "dfsales2['Year']= pd.DatetimeIndex(dfsales2[\"OrderDate\"]).year"
   ]
  },
  {
   "cell_type": "code",
   "execution_count": 15,
   "id": "06c7b11b",
   "metadata": {},
   "outputs": [
    {
     "data": {
      "text/html": [
       "<div>\n",
       "<style scoped>\n",
       "    .dataframe tbody tr th:only-of-type {\n",
       "        vertical-align: middle;\n",
       "    }\n",
       "\n",
       "    .dataframe tbody tr th {\n",
       "        vertical-align: top;\n",
       "    }\n",
       "\n",
       "    .dataframe thead th {\n",
       "        text-align: right;\n",
       "    }\n",
       "</style>\n",
       "<table border=\"1\" class=\"dataframe\">\n",
       "  <thead>\n",
       "    <tr style=\"text-align: right;\">\n",
       "      <th></th>\n",
       "      <th>OrderDate</th>\n",
       "      <th>OrderID</th>\n",
       "      <th>Product</th>\n",
       "      <th>Quantity</th>\n",
       "      <th>InvoiceValue</th>\n",
       "      <th>CustomerName</th>\n",
       "      <th>City</th>\n",
       "      <th>StateCode</th>\n",
       "      <th>StateName</th>\n",
       "      <th>Region</th>\n",
       "      <th>Year</th>\n",
       "    </tr>\n",
       "  </thead>\n",
       "  <tbody>\n",
       "    <tr>\n",
       "      <th>1</th>\n",
       "      <td>2013-10-14</td>\n",
       "      <td>57966.0</td>\n",
       "      <td>Patch Kit/8 Patches</td>\n",
       "      <td>1.0</td>\n",
       "      <td>229.0</td>\n",
       "      <td>Alyssa Taylor</td>\n",
       "      <td>Birmingham</td>\n",
       "      <td>AL</td>\n",
       "      <td>Alabama</td>\n",
       "      <td>South</td>\n",
       "      <td>2013</td>\n",
       "    </tr>\n",
       "    <tr>\n",
       "      <th>2</th>\n",
       "      <td>2014-06-12</td>\n",
       "      <td>74548.0</td>\n",
       "      <td>HL Mountain Tire</td>\n",
       "      <td>1.0</td>\n",
       "      <td>3500.0</td>\n",
       "      <td>Alyssa Taylor</td>\n",
       "      <td>Birmingham</td>\n",
       "      <td>AL</td>\n",
       "      <td>Alabama</td>\n",
       "      <td>South</td>\n",
       "      <td>2014</td>\n",
       "    </tr>\n",
       "  </tbody>\n",
       "</table>\n",
       "</div>"
      ],
      "text/plain": [
       "    OrderDate  OrderID              Product  Quantity  InvoiceValue  \\\n",
       "1  2013-10-14  57966.0  Patch Kit/8 Patches       1.0         229.0   \n",
       "2  2014-06-12  74548.0     HL Mountain Tire       1.0        3500.0   \n",
       "\n",
       "    CustomerName        City StateCode StateName Region  Year  \n",
       "1  Alyssa Taylor  Birmingham       AL    Alabama  South  2013  \n",
       "2  Alyssa Taylor  Birmingham       AL    Alabama  South  2014  "
      ]
     },
     "execution_count": 15,
     "metadata": {},
     "output_type": "execute_result"
    }
   ],
   "source": [
    "dfsales2.head(2)"
   ]
  },
  {
   "cell_type": "code",
   "execution_count": 29,
   "id": "83ac6075",
   "metadata": {},
   "outputs": [
    {
     "data": {
      "image/png": "[encoded data removed]",
      "text/plain": [
       "<Figure size 400x600 with 1 Axes>"
      ]
     },
     "metadata": {},
     "output_type": "display_data"
    }
   ],
   "source": [
    "dfsales3 = dfsales2.groupby(['StateName'])['Quantity'].sum()\n",
    "dfsales3.plot(kind='barh', title='Sales by Region',ylabel='Quantity',xlabel='StateName',figsize=(4, 6))\n",
    "plt.show()"
   ]
  },
  {
   "cell_type": "code",
   "execution_count": 26,
   "id": "bce4ffee",
   "metadata": {},
   "outputs": [
    {
     "data": {
      "text/plain": [
       "StateName\n",
       "Alabama              2.0\n",
       "California        6940.0\n",
       "Florida              5.0\n",
       "Georgia              7.0\n",
       "Illinois             6.0\n",
       "Kentucky             5.0\n",
       "Maryland             4.0\n",
       "Minnesota            3.0\n",
       "Missouri             3.0\n",
       "New York             7.0\n",
       "North Carolina       2.0\n",
       "Ohio                10.0\n",
       "Oregon            1660.0\n",
       "South Carolina       8.0\n",
       "Texas               13.0\n",
       "Virginia             2.0\n",
       "Washington        3492.0\n",
       "Wyoming              3.0\n",
       "Name: Quantity, dtype: float64"
      ]
     },
     "execution_count": 26,
     "metadata": {},
     "output_type": "execute_result"
    }
   ],
   "source": [
    "dfsales3"
   ]
  },
  {
   "cell_type": "code",
   "execution_count": null,
   "id": "31bbd9c6",
   "metadata": {},
   "outputs": [],
   "source": []
  }
 ],
 "metadata": {
  "kernelspec": {
   "display_name": "Python 3 (ipykernel)",
   "language": "python",
   "name": "python3"
  },
  "language_info": {
   "codemirror_mode": {
    "name": "ipython",
    "version": 3
   },
   "file_extension": ".py",
   "mimetype": "text/x-python",
   "name": "python",
   "nbconvert_exporter": "python",
   "pygments_lexer": "ipython3",
   "version": "3.9.12"
  }
 },
 "nbformat": 4,
 "nbformat_minor": 5
}
