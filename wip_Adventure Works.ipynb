{
 "cells": [
  {
   "cell_type": "markdown",
   "id": "a1c0bb2a",
   "metadata": {},
   "source": [
    "# Adventure Works Cycles - Sales opportunities"
   ]
  },
  {
   "cell_type": "markdown",
   "id": "27a4ccc8",
   "metadata": {},
   "source": [
    "<div class=\"alert alert-block alert-warning\">\n",
    "<b>About this project:</b> The goal of this project is to explore the Adventure Works database to identify opportunities for business enhancement through EDA (Exploratory Data Analysis).<br>\n",
    "Adventure Works Cycles is a ficticious multinational manufacturing company, created by Microsoft for study purpose.<br>\n",
    "\n",
    "<b>Findings:</b> Considering the adopted assumption, there are opportunities to \n",
    "</div>"
   ]
  },
  {
   "cell_type": "markdown",
   "id": "3bdff263",
   "metadata": {},
   "source": [
    "## Project assumptions:\n",
    "The ammount of sales opportunities will be represented by the sales quantity of each region and segment, when the result in (%) is below of the segment result (%) in total US sales.<br>\n",
    "For the sake of study all the regions should perform the sales at the same mix as the total US sales.<br>\n",
    "\n",
    "Granularity of data:<br>\n",
    "Geographic: grouped by region | Date: group by month or year <br>"
   ]
  },
  {
   "cell_type": "markdown",
   "id": "b8d25959",
   "metadata": {},
   "source": [
    "## Procedures\n",
    ">1) Import libraries required <br>\n",
    ">2) Import dataset (from local Microsoft SQL Server database).<br>\n",
    ">3) Create the dataframes:<br>\n",
    "    sales: result with region name, product segment, quantity, invoice value <br>\n",
    "    population: US population quantity, grouped by region <br>\n",
    ">4) Plot charts to explore data <br>\n",
    ">5) Calculate the sales opportunities <br>\n",
    ">6) Conclusion"
   ]
  },
  {
   "cell_type": "markdown",
   "id": "e603134d",
   "metadata": {},
   "source": [
    "### 1) Importing the libraries"
   ]
  },
  {
   "cell_type": "code",
   "execution_count": 1,
   "id": "29989034",
   "metadata": {},
   "outputs": [],
   "source": [
    "import pyodbc\n",
    "import pandas as pd\n",
    "import numpy as np\n",
    "import matplotlib.pyplot as plt\n",
    "%matplotlib inline\n",
    "import warnings\n",
    "warnings.filterwarnings('ignore')"
   ]
  },
  {
   "cell_type": "markdown",
   "id": "9628bf83",
   "metadata": {},
   "source": [
    "### 2) Connecting with SQL Server to get the data"
   ]
  },
  {
   "cell_type": "code",
   "execution_count": 2,
   "id": "6833bbfd",
   "metadata": {},
   "outputs": [],
   "source": [
    "connectiondata = (\n",
    "    \"Driver={SQL Server};\"\n",
    "    \"Server=localhost\\SQLEXPRESS;\"\n",
    "    \"Database=AdventureWorks2019;\"\n",
    "    \"Trusted_Connection=yes;\")\n",
    "## note to add when required; UID=login;PWD=senhadousuario)\n",
    "connection = pyodbc.connect(connectiondata)\n",
    "cursor = connection.cursor()"
   ]
  },
  {
   "cell_type": "markdown",
   "id": "d83f115a",
   "metadata": {},
   "source": [
    "### 3) Creating the dataframes"
   ]
  },
  {
   "cell_type": "code",
   "execution_count": 3,
   "id": "bae79042",
   "metadata": {
    "scrolled": true
   },
   "outputs": [
    {
     "data": {
      "text/plain": [
       "SalesDate       datetime64[ns]\n",
       "Product                 object\n",
       "Qty                      int64\n",
       "InvoiceValue           float64\n",
       "dtype: object"
      ]
     },
     "execution_count": 3,
     "metadata": {},
     "output_type": "execute_result"
    }
   ],
   "source": [
    "# creating the sales dataframe \n",
    "query_sales = \"SELECT convert(DATE,sh.OrderDate) as SalesDate, PP.Name as 'Product', CAST(sd.OrderQty AS INTEGER) as 'Qty', CAST(sd.LineTotal AS DECIMAL(20,2)) as 'InvoiceValue' FROM sales.SalesOrderDetail SD  INNER JOIN Sales.SalesOrderHeader SH ON SH.SalesOrderID = SD.SalesOrderID INNER JOIN Production.Product PP ON PP.ProductID = SD.ProductID\"\n",
    "cursor.execute(query_sales)\n",
    "connection = pyodbc.connect(connectiondata)\n",
    "cursor = connection.cursor()\n",
    "pyodbc.setDecimalSeparator(',')\n",
    "dfsales = pd.read_sql(query_sales,connection,parse_dates={'SalesDate': {'format': '%Y-%m-%d'}})\n",
    "dfsales = pd.DataFrame(dfsales)\n",
    "dfsales.dtypes"
   ]
  },
  {
   "cell_type": "code",
   "execution_count": 4,
   "id": "0c5e35f2",
   "metadata": {},
   "outputs": [
    {
     "data": {
      "text/plain": [
       "<bound method DataFrame.info of         SalesDate                  Product  Qty  InvoiceValue\n",
       "0      2011-05-31   Mountain-100 Black, 42    1      202499.0\n",
       "1      2011-05-31   Mountain-100 Black, 44    3      607498.0\n",
       "2      2011-05-31   Mountain-100 Black, 48    1      202499.0\n",
       "3      2011-05-31  Mountain-100 Silver, 38    1      203999.0\n",
       "4      2011-05-31  Mountain-100 Silver, 42    1      203999.0\n",
       "...           ...                      ...  ...           ...\n",
       "121312 2014-06-30    Fender Set - Mountain    1        2198.0\n",
       "121313 2014-06-30             AWC Logo Cap    1         899.0\n",
       "121314 2014-06-30    Fender Set - Mountain    1        2198.0\n",
       "121315 2014-06-30   All-Purpose Bike Stand    1       15900.0\n",
       "121316 2014-06-30             AWC Logo Cap    1         899.0\n",
       "\n",
       "[121317 rows x 4 columns]>"
      ]
     },
     "execution_count": 4,
     "metadata": {},
     "output_type": "execute_result"
    }
   ],
   "source": [
    "dfsales.info"
   ]
  },
  {
   "cell_type": "code",
   "execution_count": 5,
   "id": "90496f96",
   "metadata": {},
   "outputs": [
    {
     "data": {
      "text/html": [
       "<div>\n",
       "<style scoped>\n",
       "    .dataframe tbody tr th:only-of-type {\n",
       "        vertical-align: middle;\n",
       "    }\n",
       "\n",
       "    .dataframe tbody tr th {\n",
       "        vertical-align: top;\n",
       "    }\n",
       "\n",
       "    .dataframe thead th {\n",
       "        text-align: right;\n",
       "    }\n",
       "</style>\n",
       "<table border=\"1\" class=\"dataframe\">\n",
       "  <thead>\n",
       "    <tr style=\"text-align: right;\">\n",
       "      <th></th>\n",
       "      <th>SalesDate</th>\n",
       "      <th>Product</th>\n",
       "      <th>Qty</th>\n",
       "      <th>InvoiceValue</th>\n",
       "    </tr>\n",
       "  </thead>\n",
       "  <tbody>\n",
       "    <tr>\n",
       "      <th>121314</th>\n",
       "      <td>2014-06-30</td>\n",
       "      <td>Fender Set - Mountain</td>\n",
       "      <td>1</td>\n",
       "      <td>2198.0</td>\n",
       "    </tr>\n",
       "    <tr>\n",
       "      <th>121315</th>\n",
       "      <td>2014-06-30</td>\n",
       "      <td>All-Purpose Bike Stand</td>\n",
       "      <td>1</td>\n",
       "      <td>15900.0</td>\n",
       "    </tr>\n",
       "    <tr>\n",
       "      <th>121316</th>\n",
       "      <td>2014-06-30</td>\n",
       "      <td>AWC Logo Cap</td>\n",
       "      <td>1</td>\n",
       "      <td>899.0</td>\n",
       "    </tr>\n",
       "  </tbody>\n",
       "</table>\n",
       "</div>"
      ],
      "text/plain": [
       "        SalesDate                 Product  Qty  InvoiceValue\n",
       "121314 2014-06-30   Fender Set - Mountain    1        2198.0\n",
       "121315 2014-06-30  All-Purpose Bike Stand    1       15900.0\n",
       "121316 2014-06-30            AWC Logo Cap    1         899.0"
      ]
     },
     "execution_count": 5,
     "metadata": {},
     "output_type": "execute_result"
    }
   ],
   "source": [
    "dfsales.tail(3)"
   ]
  },
  {
   "cell_type": "code",
   "execution_count": 6,
   "id": "cebd1bf0",
   "metadata": {},
   "outputs": [
    {
     "data": {
      "text/html": [
       "<div>\n",
       "<style scoped>\n",
       "    .dataframe tbody tr th:only-of-type {\n",
       "        vertical-align: middle;\n",
       "    }\n",
       "\n",
       "    .dataframe tbody tr th {\n",
       "        vertical-align: top;\n",
       "    }\n",
       "\n",
       "    .dataframe thead th {\n",
       "        text-align: right;\n",
       "    }\n",
       "</style>\n",
       "<table border=\"1\" class=\"dataframe\">\n",
       "  <thead>\n",
       "    <tr style=\"text-align: right;\">\n",
       "      <th></th>\n",
       "      <th>Unnamed: 0</th>\n",
       "      <th>2011</th>\n",
       "      <th>2012</th>\n",
       "      <th>2013</th>\n",
       "      <th>2014</th>\n",
       "      <th>population_median</th>\n",
       "    </tr>\n",
       "  </thead>\n",
       "  <tbody>\n",
       "    <tr>\n",
       "      <th>0</th>\n",
       "      <td>United States</td>\n",
       "      <td>311556874</td>\n",
       "      <td>313830990</td>\n",
       "      <td>315993715</td>\n",
       "      <td>318301008</td>\n",
       "      <td>314912352</td>\n",
       "    </tr>\n",
       "    <tr>\n",
       "      <th>1</th>\n",
       "      <td>Northeast</td>\n",
       "      <td>55604223</td>\n",
       "      <td>55775216</td>\n",
       "      <td>55901806</td>\n",
       "      <td>56006011</td>\n",
       "      <td>55838511</td>\n",
       "    </tr>\n",
       "    <tr>\n",
       "      <th>2</th>\n",
       "      <td>Midwest</td>\n",
       "      <td>67157800</td>\n",
       "      <td>67336743</td>\n",
       "      <td>67560379</td>\n",
       "      <td>67745167</td>\n",
       "      <td>67448561</td>\n",
       "    </tr>\n",
       "    <tr>\n",
       "      <th>3</th>\n",
       "      <td>South</td>\n",
       "      <td>116006522</td>\n",
       "      <td>117241208</td>\n",
       "      <td>118364400</td>\n",
       "      <td>119624037</td>\n",
       "      <td>117802804</td>\n",
       "    </tr>\n",
       "    <tr>\n",
       "      <th>4</th>\n",
       "      <td>West</td>\n",
       "      <td>72788329</td>\n",
       "      <td>73477823</td>\n",
       "      <td>74167130</td>\n",
       "      <td>74925793</td>\n",
       "      <td>73822476</td>\n",
       "    </tr>\n",
       "  </tbody>\n",
       "</table>\n",
       "</div>"
      ],
      "text/plain": [
       "      Unnamed: 0       2011       2012       2013       2014  \\\n",
       "0  United States  311556874  313830990  315993715  318301008   \n",
       "1      Northeast   55604223   55775216   55901806   56006011   \n",
       "2        Midwest   67157800   67336743   67560379   67745167   \n",
       "3          South  116006522  117241208  118364400  119624037   \n",
       "4           West   72788329   73477823   74167130   74925793   \n",
       "\n",
       "   population_median  \n",
       "0          314912352  \n",
       "1           55838511  \n",
       "2           67448561  \n",
       "3          117802804  \n",
       "4           73822476  "
      ]
     },
     "execution_count": 6,
     "metadata": {},
     "output_type": "execute_result"
    }
   ],
   "source": [
    "# loading the US population dataframe \n",
    "censusall = pd.read_excel('Census_US_2010_2019.xlsx', skiprows = 3,nrows=5,usecols=(0,4,5,6,7))\n",
    "#censusall['avg'] = censusall[2011]\n",
    "col = censusall.loc[:,2011:2014]\n",
    "censusall['population_median'] = col.median(axis=1)\n",
    "censusall['population_median'] = censusall['population_median'].astype(int)\n",
    "censusall.head(10)"
   ]
  },
  {
   "cell_type": "code",
   "execution_count": null,
   "id": "4800a1fc",
   "metadata": {},
   "outputs": [],
   "source": []
  }
 ],
 "metadata": {
  "kernelspec": {
   "display_name": "Python 3 (ipykernel)",
   "language": "python",
   "name": "python3"
  },
  "language_info": {
   "codemirror_mode": {
    "name": "ipython",
    "version": 3
   },
   "file_extension": ".py",
   "mimetype": "text/x-python",
   "name": "python",
   "nbconvert_exporter": "python",
   "pygments_lexer": "ipython3",
   "version": "3.9.12"
  }
 },
 "nbformat": 4,
 "nbformat_minor": 5
}
